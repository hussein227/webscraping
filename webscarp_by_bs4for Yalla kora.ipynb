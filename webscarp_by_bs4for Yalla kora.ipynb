{
  "nbformat": 4,
  "nbformat_minor": 0,
  "metadata": {
    "colab": {
      "provenance": [],
      "authorship_tag": "ABX9TyNPWghflLHgCbtOzG59Sk2f",
      "include_colab_link": true
    },
    "kernelspec": {
      "name": "python3",
      "display_name": "Python 3"
    },
    "language_info": {
      "name": "python"
    }
  },
  "cells": [
    {
      "cell_type": "markdown",
      "metadata": {
        "id": "view-in-github",
        "colab_type": "text"
      },
      "source": [
        "<a href=\"https://colab.research.google.com/github/hussein227/webscraping/blob/main/webscarp_by_bs4for%20Yalla%20kora.ipynb\" target=\"_parent\"><img src=\"https://colab.research.google.com/assets/colab-badge.svg\" alt=\"Open In Colab\"/></a>"
      ]
    },
    {
      "cell_type": "code",
      "source": [
        "pip install requests"
      ],
      "metadata": {
        "colab": {
          "base_uri": "https://localhost:8080/"
        },
        "id": "bXg4w3fEXK-J",
        "outputId": "4644a48c-5a9f-468e-fefa-a2f1fc0ab706"
      },
      "execution_count": 1,
      "outputs": [
        {
          "output_type": "stream",
          "name": "stdout",
          "text": [
            "Requirement already satisfied: requests in /usr/local/lib/python3.10/dist-packages (2.31.0)\n",
            "Requirement already satisfied: charset-normalizer<4,>=2 in /usr/local/lib/python3.10/dist-packages (from requests) (3.2.0)\n",
            "Requirement already satisfied: idna<4,>=2.5 in /usr/local/lib/python3.10/dist-packages (from requests) (3.4)\n",
            "Requirement already satisfied: urllib3<3,>=1.21.1 in /usr/local/lib/python3.10/dist-packages (from requests) (2.0.4)\n",
            "Requirement already satisfied: certifi>=2017.4.17 in /usr/local/lib/python3.10/dist-packages (from requests) (2023.7.22)\n"
          ]
        }
      ]
    },
    {
      "cell_type": "code",
      "source": [
        "pip install BeautifulSoup4"
      ],
      "metadata": {
        "colab": {
          "base_uri": "https://localhost:8080/"
        },
        "id": "rkMlHocWXTj4",
        "outputId": "db9e19ad-6317-41ee-9dbc-54999fdb386e"
      },
      "execution_count": 2,
      "outputs": [
        {
          "output_type": "stream",
          "name": "stdout",
          "text": [
            "Requirement already satisfied: BeautifulSoup4 in /usr/local/lib/python3.10/dist-packages (4.11.2)\n",
            "Requirement already satisfied: soupsieve>1.2 in /usr/local/lib/python3.10/dist-packages (from BeautifulSoup4) (2.4.1)\n"
          ]
        }
      ]
    },
    {
      "cell_type": "code",
      "source": [
        "pip install lxml"
      ],
      "metadata": {
        "colab": {
          "base_uri": "https://localhost:8080/"
        },
        "id": "DKt-OzwIXdFh",
        "outputId": "bde1364c-2ee2-4b91-bfed-5bd1bb8ed967"
      },
      "execution_count": 3,
      "outputs": [
        {
          "output_type": "stream",
          "name": "stdout",
          "text": [
            "Requirement already satisfied: lxml in /usr/local/lib/python3.10/dist-packages (4.9.3)\n"
          ]
        }
      ]
    },
    {
      "cell_type": "code",
      "execution_count": 4,
      "metadata": {
        "id": "tWbs2TzYWqQc"
      },
      "outputs": [],
      "source": [
        "import requests"
      ]
    },
    {
      "cell_type": "code",
      "source": [
        "from bs4 import  BeautifulSoup\n",
        "import csv"
      ],
      "metadata": {
        "id": "nC_LKyMyW3K0"
      },
      "execution_count": 5,
      "outputs": []
    },
    {
      "cell_type": "code",
      "source": [
        "date=input(\"please enter the Date in the Following Format MM/DD/YYYY:\")"
      ],
      "metadata": {
        "colab": {
          "base_uri": "https://localhost:8080/"
        },
        "id": "pI95GiysYdvc",
        "outputId": "5d337d06-5f67-44c1-ee4f-62bb52058ac6"
      },
      "execution_count": 6,
      "outputs": [
        {
          "name": "stdout",
          "output_type": "stream",
          "text": [
            "please enter the Date in the Following Format MM/DD/YYYY:24/8/2023\n"
          ]
        }
      ]
    },
    {
      "cell_type": "code",
      "source": [
        "page = requests.get(f\"https://www.yallakora.com/match-center?date={date}\")"
      ],
      "metadata": {
        "id": "t1UFfgoAXEBx"
      },
      "execution_count": 7,
      "outputs": []
    },
    {
      "cell_type": "code",
      "source": [
        "def main(page) :\n",
        "  src = page.content\n",
        "  soup=BeautifulSoup(src,\"lxml\")\n",
        "\n",
        "  #print(soup)\n",
        "\n",
        "  matches_details=[]\n",
        "  championships = soup.find_all(\"div\",{'class': 'matchCard'})\n",
        "\n",
        "  def get_match_info(championships):\n",
        "\n",
        "      championship_title=championships.contents[1].find(\"h2\").text.strip()\n",
        "      print(championship_title)\n",
        "      all_matches=championships.contents[3].find_all('li')\n",
        "      num_of_matches = len(all_matches)\n",
        "      for i in range(num_of_matches):\n",
        "\n",
        "        team_A = all_matches[i].find('div',{'class':'teamA'}).text.strip()\n",
        "        team_B = all_matches[i].find('div',{'class':'teamB'}).text.strip()\n",
        "        #get scores\n",
        "\n",
        "        match_result = all_matches.find('div',{'class':'MResult'}).find('span',{'class':'score'}).text.strip()\n",
        "\n",
        "        score = f\"{match_result[0].text.strip()}-{match_result[1].text.strip()}\"\n",
        "        match_time = all_matches.find('div',{'class':'MResult'}).find('span',{'class':'time'}).text.strip()\n",
        "\n",
        "        matches_details.append({\"نوع البطوله\" :championship_title,\"الفريق الاول\":team_A,\"الفريق الثاني\":team_B,\"ميعاد المباراه\":match_time,\"النتيجه\":score})\n",
        "\n",
        "      for i in range (len(championships)):\n",
        "         get_match_info(championship[i])\n",
        "\n",
        "  get_match_info(championships[0])"
      ],
      "metadata": {
        "id": "O5z-Y5Njg7sP"
      },
      "execution_count": 27,
      "outputs": []
    },
    {
      "cell_type": "code",
      "source": [
        "main(page)"
      ],
      "metadata": {
        "colab": {
          "base_uri": "https://localhost:8080/",
          "height": 355
        },
        "id": "ylyFqSDnhE0T",
        "outputId": "f83a5cc2-1003-4f38-cf1a-26baecb3b00e"
      },
      "execution_count": 28,
      "outputs": [
        {
          "output_type": "stream",
          "name": "stdout",
          "text": [
            "الدوري السعودي\n"
          ]
        },
        {
          "output_type": "error",
          "ename": "AttributeError",
          "evalue": "ignored",
          "traceback": [
            "\u001b[0;31m---------------------------------------------------------------------------\u001b[0m",
            "\u001b[0;31mAttributeError\u001b[0m                            Traceback (most recent call last)",
            "\u001b[0;32m<ipython-input-28-4f61bc94e086>\u001b[0m in \u001b[0;36m<cell line: 1>\u001b[0;34m()\u001b[0m\n\u001b[0;32m----> 1\u001b[0;31m \u001b[0mmain\u001b[0m\u001b[0;34m(\u001b[0m\u001b[0mpage\u001b[0m\u001b[0;34m)\u001b[0m\u001b[0;34m\u001b[0m\u001b[0;34m\u001b[0m\u001b[0m\n\u001b[0m",
            "\u001b[0;32m<ipython-input-27-3d7decc6aa74>\u001b[0m in \u001b[0;36mmain\u001b[0;34m(page)\u001b[0m\n\u001b[1;32m     30\u001b[0m          \u001b[0mget_match_info\u001b[0m\u001b[0;34m(\u001b[0m\u001b[0mchampionship\u001b[0m\u001b[0;34m[\u001b[0m\u001b[0mi\u001b[0m\u001b[0;34m]\u001b[0m\u001b[0;34m)\u001b[0m\u001b[0;34m\u001b[0m\u001b[0;34m\u001b[0m\u001b[0m\n\u001b[1;32m     31\u001b[0m \u001b[0;34m\u001b[0m\u001b[0m\n\u001b[0;32m---> 32\u001b[0;31m   \u001b[0mget_match_info\u001b[0m\u001b[0;34m(\u001b[0m\u001b[0mchampionships\u001b[0m\u001b[0;34m[\u001b[0m\u001b[0;36m0\u001b[0m\u001b[0;34m]\u001b[0m\u001b[0;34m)\u001b[0m\u001b[0;34m\u001b[0m\u001b[0;34m\u001b[0m\u001b[0m\n\u001b[0m",
            "\u001b[0;32m<ipython-input-27-3d7decc6aa74>\u001b[0m in \u001b[0;36mget_match_info\u001b[0;34m(championships)\u001b[0m\n\u001b[1;32m     20\u001b[0m         \u001b[0;31m#get scores\u001b[0m\u001b[0;34m\u001b[0m\u001b[0;34m\u001b[0m\u001b[0m\n\u001b[1;32m     21\u001b[0m \u001b[0;34m\u001b[0m\u001b[0m\n\u001b[0;32m---> 22\u001b[0;31m         \u001b[0mmatch_result\u001b[0m \u001b[0;34m=\u001b[0m \u001b[0mall_matches\u001b[0m\u001b[0;34m.\u001b[0m\u001b[0mfind\u001b[0m\u001b[0;34m(\u001b[0m\u001b[0;34m'div'\u001b[0m\u001b[0;34m,\u001b[0m\u001b[0;34m{\u001b[0m\u001b[0;34m'class'\u001b[0m\u001b[0;34m:\u001b[0m\u001b[0;34m'MResult'\u001b[0m\u001b[0;34m}\u001b[0m\u001b[0;34m)\u001b[0m\u001b[0;34m.\u001b[0m\u001b[0mfind\u001b[0m\u001b[0;34m(\u001b[0m\u001b[0;34m'span'\u001b[0m\u001b[0;34m,\u001b[0m\u001b[0;34m{\u001b[0m\u001b[0;34m'class'\u001b[0m\u001b[0;34m:\u001b[0m\u001b[0;34m'score'\u001b[0m\u001b[0;34m}\u001b[0m\u001b[0;34m)\u001b[0m\u001b[0;34m.\u001b[0m\u001b[0mtext\u001b[0m\u001b[0;34m.\u001b[0m\u001b[0mstrip\u001b[0m\u001b[0;34m(\u001b[0m\u001b[0;34m)\u001b[0m\u001b[0;34m\u001b[0m\u001b[0;34m\u001b[0m\u001b[0m\n\u001b[0m\u001b[1;32m     23\u001b[0m \u001b[0;34m\u001b[0m\u001b[0m\n\u001b[1;32m     24\u001b[0m         \u001b[0mscore\u001b[0m \u001b[0;34m=\u001b[0m \u001b[0;34mf\"{match_result[0].text.strip()}-{match_result[1].text.strip()}\"\u001b[0m\u001b[0;34m\u001b[0m\u001b[0;34m\u001b[0m\u001b[0m\n",
            "\u001b[0;32m/usr/local/lib/python3.10/dist-packages/bs4/element.py\u001b[0m in \u001b[0;36m__getattr__\u001b[0;34m(self, key)\u001b[0m\n\u001b[1;32m   2306\u001b[0m     \u001b[0;32mdef\u001b[0m \u001b[0m__getattr__\u001b[0m\u001b[0;34m(\u001b[0m\u001b[0mself\u001b[0m\u001b[0;34m,\u001b[0m \u001b[0mkey\u001b[0m\u001b[0;34m)\u001b[0m\u001b[0;34m:\u001b[0m\u001b[0;34m\u001b[0m\u001b[0;34m\u001b[0m\u001b[0m\n\u001b[1;32m   2307\u001b[0m         \u001b[0;34m\"\"\"Raise a helpful exception to explain a common code fix.\"\"\"\u001b[0m\u001b[0;34m\u001b[0m\u001b[0;34m\u001b[0m\u001b[0m\n\u001b[0;32m-> 2308\u001b[0;31m         raise AttributeError(\n\u001b[0m\u001b[1;32m   2309\u001b[0m             \u001b[0;34m\"ResultSet object has no attribute '%s'. You're probably treating a list of elements like a single element. Did you call find_all() when you meant to call find()?\"\u001b[0m \u001b[0;34m%\u001b[0m \u001b[0mkey\u001b[0m\u001b[0;34m\u001b[0m\u001b[0;34m\u001b[0m\u001b[0m\n\u001b[1;32m   2310\u001b[0m         )\n",
            "\u001b[0;31mAttributeError\u001b[0m: ResultSet object has no attribute 'find'. You're probably treating a list of elements like a single element. Did you call find_all() when you meant to call find()?"
          ]
        }
      ]
    },
    {
      "cell_type": "code",
      "source": [
        "  from bs4 import BeautifulSoup\n",
        "\n",
        "def main(page):\n",
        "    src = page.content\n",
        "    soup = BeautifulSoup(src, \"lxml\")\n",
        "    matches_details = []\n",
        "    championships = soup.find_all(\"div\", {'class': 'matchCard'})\n",
        "\n",
        "    def get_match_info(championship):\n",
        "        championship_title = championship.contents[1].find(\"h2\").text.strip()\n",
        "        print(championship_title)\n",
        "        all_matches = championship.contents[3].find_all('li')\n",
        "        num_of_matches = len(all_matches)\n",
        "\n",
        "        for i in range(num_of_matches):\n",
        "            team_A = all_matches[i].find('div', {'class': 'teamA'}).text.strip()\n",
        "            team_B = all_matches[i].find('div', {'class': 'teamB'}).text.strip()\n",
        "\n",
        "            match_result = all_matches[i].find('div', {'class': 'MResult'}).find('span', {'class': 'score'}).text.strip()\n",
        "            score_parts = match_result.split('-')\n",
        "            score = f\"{score_parts[0].strip()}-{score_parts[1].strip()}\"\n",
        "\n",
        "            match_time = all_matches[i].find('div', {'class': 'MResult'}).find('span', {'class': 'time'}).text.strip()\n",
        "\n",
        "            matches_details.append({\n",
        "                \"نوع البطوله\": championship_title,\n",
        "                \"الفريق الاول\": team_A,\n",
        "                \"الفريق الثاني\": team_B,\n",
        "                \"ميعاد المباراه\": match_time,\n",
        "                \"النتيجه\": score\n",
        "            })\n",
        "\n",
        "    for championship in championships:\n",
        "        get_match_info(championship)\n",
        "\n",
        "# Assuming you have the 'page' object defined somewhere before calling main()\n",
        "main(page)\n"
      ],
      "metadata": {
        "id": "EMM6QfDXhGmX",
        "colab": {
          "base_uri": "https://localhost:8080/"
        },
        "outputId": "de20ff14-d7d9-4253-dca4-2f0e7400a30b"
      },
      "execution_count": 26,
      "outputs": [
        {
          "output_type": "stream",
          "name": "stdout",
          "text": [
            "الدوري السعودي\n",
            "البطولة العربية للأندية لكرة اليد\n",
            "دوري أبطال إفريقيا\n",
            "الكونفيدرالية الإفريقية\n"
          ]
        }
      ]
    },
    {
      "cell_type": "code",
      "source": [
        "import csv\n",
        "from bs4 import BeautifulSoup\n",
        "\n",
        "def main(page):\n",
        "    src = page.content\n",
        "    soup = BeautifulSoup(src, \"lxml\")\n",
        "    matches_details = []\n",
        "    championships = soup.find_all(\"div\", {'class': 'matchCard'})\n",
        "\n",
        "    def get_match_info(championship):\n",
        "        championship_title = championship.contents[1].find(\"h2\").text.strip()\n",
        "        all_matches = championship.contents[3].find_all('li')\n",
        "\n",
        "        for match in all_matches:\n",
        "            team_A = match.find('div', {'class': 'teamA'}).text.strip()\n",
        "            team_B = match.find('div', {'class': 'teamB'}).text.strip()\n",
        "\n",
        "            match_result = match.find('div', {'class': 'MResult'}).find('span', {'class': 'score'}).text.strip()\n",
        "            score_parts = match_result.split('-')\n",
        "            score = f\"{score_parts[0].strip()}-{score_parts[1].strip()}\"\n",
        "\n",
        "            match_time = match.find('div', {'class': 'MResult'}).find('span', {'class': 'time'}).text.strip()\n",
        "\n",
        "            matches_details.append([\n",
        "                championship_title,\n",
        "                team_A,\n",
        "                team_B,\n",
        "                match_time,\n",
        "                score\n",
        "            ])\n",
        "\n",
        "    for championship in championships:\n",
        "        get_match_info(championship)\n",
        "\n",
        "   # keys = matches_details[0].keys()\n",
        "    # Write the details to a CSV file\n",
        "    with open('OneDrive\\Pictures\\matches_details.csv', 'w') as csvfile:\n",
        "        csvwriter = csv.writer(csvfile)\n",
        "        csvwriter.writerow([\"نوع البطوله\", \"الفريق الاول\", \"الفريق الثاني\", \"ميعاد المباراه\", \"النتيجه\"])\n",
        "        csvwriter.writerows(matches_details)\n",
        "        #dict_writer = csv.DictWriter(csvfile)\n",
        "        #dict_Writer.writeheader()\n",
        "        #dict_Writer.writerows(matches_details)\n",
        "        print(\"file created successfully\")\n",
        "\n",
        "# Assuming you have the 'page' object defined somewhere before calling main()\n",
        "main(page)\n"
      ],
      "metadata": {
        "colab": {
          "base_uri": "https://localhost:8080/"
        },
        "id": "frWjgcp5wo26",
        "outputId": "e4f6fa4e-a32b-4f57-a062-0f93cb757c6a"
      },
      "execution_count": 32,
      "outputs": [
        {
          "output_type": "stream",
          "name": "stdout",
          "text": [
            "file created successfully\n"
          ]
        }
      ]
    },
    {
      "cell_type": "code",
      "source": [
        "import csv\n",
        "from bs4 import BeautifulSoup\n",
        "\n",
        "def main(page):\n",
        "    src = page.content\n",
        "    soup = BeautifulSoup(src, \"lxml\")\n",
        "    matches_details = []\n",
        "    championships = soup.find_all(\"div\", {'class': 'matchCard'})\n",
        "\n",
        "    def get_match_info(championship):\n",
        "        championship_title = championship.contents[1].find(\"h2\").text.strip()\n",
        "        all_matches = championship.contents[3].find_all('li')\n",
        "\n",
        "        for match in all_matches:\n",
        "            team_A = match.find('div', {'class': 'teamA'}).text.strip()\n",
        "            team_B = match.find('div', {'class': 'teamB'}).text.strip()\n",
        "\n",
        "            match_result = match.find('div', {'class': 'MResult'}).find('span', {'class': 'score'}).text.strip()\n",
        "            score_parts = match_result.split('-')\n",
        "            score = f\"{score_parts[0].strip()}-{score_parts[1].strip()}\"\n",
        "\n",
        "            match_time = match.find('div', {'class': 'MResult'}).find('span', {'class': 'time'}).text.strip()\n",
        "\n",
        "            matches_details.append([\n",
        "                championship_title,\n",
        "                team_A,\n",
        "                team_B,\n",
        "                match_time,\n",
        "                score\n",
        "            ])\n",
        "\n",
        "    for championship in championships:\n",
        "        get_match_info(championship)\n",
        "\n",
        "    # Write the details to a CSV file\n",
        "    #file_path = r'C:\\Users\\YourUsername\\OneDrive\\Pictures\\matches_details.csv'\n",
        "    file_path = '/content/matches_details.csv'\n",
        "\n",
        "    with open(file_path, 'w', newline='', encoding='utf-8') as csvfile:\n",
        "        csvwriter = csv.writer(csvfile)\n",
        "        csvwriter.writerow([\"نوع البطوله\", \"الفريق الاول\", \"الفريق الثاني\", \"ميعاد المباراه\", \"النتيجه\"])\n",
        "        csvwriter.writerows(matches_details)\n",
        "        print(\"File created successfully\")\n",
        "\n",
        "# Assuming you have the 'page' object defined somewhere before calling main()\n",
        "main(page)\n"
      ],
      "metadata": {
        "colab": {
          "base_uri": "https://localhost:8080/"
        },
        "id": "9ZoB3XTHyeeE",
        "outputId": "629d16c5-7ea1-4cb6-e75f-bb9e4b9e72b6"
      },
      "execution_count": 35,
      "outputs": [
        {
          "output_type": "stream",
          "name": "stdout",
          "text": [
            "File created successfully\n"
          ]
        }
      ]
    },
    {
      "cell_type": "code",
      "source": [
        "import os\n",
        "print(os.getcwd())\n"
      ],
      "metadata": {
        "colab": {
          "base_uri": "https://localhost:8080/"
        },
        "id": "ICswn_Ewy2b4",
        "outputId": "4a47ccb7-747d-4e49-861d-6986351d3c99"
      },
      "execution_count": 36,
      "outputs": [
        {
          "output_type": "stream",
          "name": "stdout",
          "text": [
            "/content\n"
          ]
        }
      ]
    },
    {
      "cell_type": "code",
      "source": [
        "from google.colab import files\n",
        "files.download('matches_details.csv')\n"
      ],
      "metadata": {
        "colab": {
          "base_uri": "https://localhost:8080/",
          "height": 17
        },
        "id": "PDWq1l5izG47",
        "outputId": "a479460b-90a6-4e73-c865-0c12ea210353"
      },
      "execution_count": 37,
      "outputs": [
        {
          "output_type": "display_data",
          "data": {
            "text/plain": [
              "<IPython.core.display.Javascript object>"
            ],
            "application/javascript": [
              "\n",
              "    async function download(id, filename, size) {\n",
              "      if (!google.colab.kernel.accessAllowed) {\n",
              "        return;\n",
              "      }\n",
              "      const div = document.createElement('div');\n",
              "      const label = document.createElement('label');\n",
              "      label.textContent = `Downloading \"${filename}\": `;\n",
              "      div.appendChild(label);\n",
              "      const progress = document.createElement('progress');\n",
              "      progress.max = size;\n",
              "      div.appendChild(progress);\n",
              "      document.body.appendChild(div);\n",
              "\n",
              "      const buffers = [];\n",
              "      let downloaded = 0;\n",
              "\n",
              "      const channel = await google.colab.kernel.comms.open(id);\n",
              "      // Send a message to notify the kernel that we're ready.\n",
              "      channel.send({})\n",
              "\n",
              "      for await (const message of channel.messages) {\n",
              "        // Send a message to notify the kernel that we're ready.\n",
              "        channel.send({})\n",
              "        if (message.buffers) {\n",
              "          for (const buffer of message.buffers) {\n",
              "            buffers.push(buffer);\n",
              "            downloaded += buffer.byteLength;\n",
              "            progress.value = downloaded;\n",
              "          }\n",
              "        }\n",
              "      }\n",
              "      const blob = new Blob(buffers, {type: 'application/binary'});\n",
              "      const a = document.createElement('a');\n",
              "      a.href = window.URL.createObjectURL(blob);\n",
              "      a.download = filename;\n",
              "      div.appendChild(a);\n",
              "      a.click();\n",
              "      div.remove();\n",
              "    }\n",
              "  "
            ]
          },
          "metadata": {}
        },
        {
          "output_type": "display_data",
          "data": {
            "text/plain": [
              "<IPython.core.display.Javascript object>"
            ],
            "application/javascript": [
              "download(\"download_e360bb38-6239-44f2-a894-05fc305e1b24\", \"matches_details.csv\", 761)"
            ]
          },
          "metadata": {}
        }
      ]
    }
  ]
}